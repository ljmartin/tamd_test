{
 "cells": [
  {
   "cell_type": "code",
   "execution_count": 1,
   "metadata": {},
   "outputs": [],
   "source": [
    "from simtk.openmm.app import *\n",
    "from simtk.openmm import *\n",
    "from simtk import unit\n",
    "from sys import stdout\n",
    "import numpy as np\n",
    "import matplotlib.pyplot as plt\n",
    "import tqdm\n",
    "from scipy.stats import norm"
   ]
  },
  {
   "cell_type": "code",
   "execution_count": 2,
   "metadata": {},
   "outputs": [],
   "source": [
    "f = open('tip3p-1.pdb', 'w')\n",
    "f.write(\"\"\"REMARK   1 CREATED WITH OPENMM 7.1.1, 2018-04-06\n",
    "CRYST1   24.668   24.668   24.668  90.00  90.00  90.00 P 1           1 \n",
    "HETATM    1  O   HOH A   1      20.854   7.945   2.695  1.00  0.00           O  \n",
    "HETATM    2  H1  HOH A   1      20.168   7.772   3.339  1.00  0.00           H  \n",
    "HETATM    3  H2  HOH A   1      21.142   8.838   2.885  1.00  0.00           H  \n",
    "END\"\"\")\n",
    "f.close()"
   ]
  },
  {
   "cell_type": "code",
   "execution_count": 3,
   "metadata": {},
   "outputs": [],
   "source": [
    "pdb = PDBFile('tip3p-1.pdb')\n",
    "omm_forcefield= ForceField('amber14/tip3pfb.xml')\n",
    "modeller = Modeller(pdb.topology, pdb.positions)\n",
    "modeller.addSolvent(omm_forcefield, ionicStrength=0.15*unit.molar, padding=2*unit.nanometer)\n",
    "PDBFile.writeFile(modeller.topology, modeller.positions, file=open('solvated.pdb', 'w'))\n",
    "\n",
    "sod = [i.index for i in modeller.topology.atoms() if i.residue.name=='NA'][0]\n",
    "cla = [i.index for i in modeller.topology.atoms() if i.residue.name=='CL'][0]\n"
   ]
  },
  {
   "cell_type": "markdown",
   "metadata": {},
   "source": [
    "# Create a System object\n",
    "It has an attached collective variable measuring bond distance between the sod and cla atoms."
   ]
  },
  {
   "cell_type": "code",
   "execution_count": 4,
   "metadata": {},
   "outputs": [],
   "source": [
    "def makeSystem():\n",
    "    system = omm_forcefield.createSystem(modeller.topology, nonbondedMethod=PME,\n",
    "         nonbondedCutoff=0.9*unit.nanometer, constraints=HBonds)\n",
    "\n",
    "    kappa = 100*unit.kilocalories_per_mole**2\n",
    "    nrg_expr = \"0.5 * kappa * (delta_cv) ^ 2;\"\n",
    "    nrg_expr += \"delta_cv = abs(r - extended_particle_position)\"\n",
    "    ion_force = CustomBondForce(nrg_expr)\n",
    "    ion_force.addGlobalParameter('kappa', kappa)\n",
    "    ion_force.addGlobalParameter('extended_particle_position', 1*unit.nanometer)\n",
    "    ion_force.addEnergyParameterDerivative('extended_particle_position')\n",
    "    ion_force.addBond(sod, cla, [])\n",
    "    ion_force.setUsesPeriodicBoundaryConditions(True)\n",
    "    ion_force.setForceGroup(16)\n",
    "    system.addForce(ion_force)\n",
    "    \n",
    "    return system"
   ]
  },
  {
   "cell_type": "markdown",
   "metadata": {},
   "source": [
    "# Define an integrator \n",
    "This is just a langevin integrator - but it has an extra GlobalVariable, which just stores the value of the derivative wrt the custom cv force. That allows us to get this value (after performing a normal langevin integration step on the real coordinates of the real particles), and then use this to calculate new values for the global parameter `extended_particle_position`"
   ]
  },
  {
   "cell_type": "code",
   "execution_count": 5,
   "metadata": {},
   "outputs": [],
   "source": [
    "class CustomLangevinIntegrator(CustomIntegrator):\n",
    "    def __init__(self, temperature, friction, dt):\n",
    "        CustomIntegrator.__init__(self, dt)\n",
    "            #normal langevin:  \n",
    "        self.addGlobalVariable(\"extended_particle_deriv\", 0)\n",
    "        self.addGlobalVariable(\"temperature\", temperature);\n",
    "        self.addGlobalVariable(\"friction\", friction);\n",
    "        self.addGlobalVariable(\"vscale\", 0);\n",
    "        self.addGlobalVariable(\"fscale\", 0);\n",
    "        self.addGlobalVariable(\"noisescale\", 0);\n",
    "        self.addPerDofVariable(\"x0\", 0);\n",
    "            #normal langevin:                                                                  \n",
    "        self.addUpdateContextState();\n",
    "        self.addComputeGlobal(\"vscale\", \"exp(-dt*friction)\");\n",
    "        self.addComputeGlobal(\"fscale\", \"(1-vscale)/friction\");\n",
    "        #original line:                \n",
    "        self.addComputeGlobal(\"noisescale\", \"sqrt(kT*(1-vscale*vscale)); kT=0.00831451*temperature\");\n",
    "        self.addComputePerDof(\"x0\", \"x\");\n",
    "            #original:                                                                                      \n",
    "        self.addComputePerDof(\"v\", \"vscale*v + fscale*f/m + noisescale*gaussian/sqrt(m)\");  \n",
    "            #normal langevin                                            \n",
    "        self.addComputePerDof(\"x\", \"x+dt*v\");\n",
    "        self.addConstrainPositions();\n",
    "        self.addComputePerDof(\"v\", \"(x-x0)/dt\");\n",
    "        \n",
    "        #last step:\n",
    "        self.addComputeGlobal(\"extended_particle_deriv\", \"deriv(energy16, extended_particle_position)\")\n"
   ]
  },
  {
   "cell_type": "markdown",
   "metadata": {},
   "source": [
    "# Make a simulation object:"
   ]
  },
  {
   "cell_type": "code",
   "execution_count": 6,
   "metadata": {},
   "outputs": [],
   "source": [
    "def makeSimulation(modeller, system):\n",
    "    integrator = CustomLangevinIntegrator(298*unit.kelvin, 1/unit.picosecond, 2*unit.femtosecond)\n",
    "    platform = Platform.getPlatformByName('OpenCL')\n",
    "    prop = {'OpenCLPrecision':'single'}\n",
    "\n",
    "    simulation = Simulation(modeller.topology, system, integrator, platform, prop)\n",
    "    simulation.context.setPositions(modeller.positions)\n",
    "\n",
    "    #calculate current distance of ions:\n",
    "    state = simulation.context.getState(getPositions=True)\n",
    "    positions = state.getPositions(asNumpy=True)\n",
    "    box = state.getPeriodicBoxVectors(asNumpy=True).sum(0)/unit.nanometer\n",
    "\n",
    "    diff = np.abs(positions[sod]-positions[cla])\n",
    "    #where the per-coordinate distance is greater than half a PBC, get the shorter distance:\n",
    "    diff = np.linalg.norm(np.where(diff>box/2, box-diff, diff))\n",
    "    start_distance = np.linalg.norm(diff)\n",
    "    #set the extended particle position to begin at this point:\n",
    "    simulation.context.setParameter('extended_particle_position', start_distance)\n",
    "\n",
    "    \n",
    "    simulation.minimizeEnergy()\n",
    "    PDBFile.writeFile(modeller.topology, simulation.context.getState(getPositions=True).getPositions(), \n",
    "                             open('wat.pdb', 'w'))\n",
    "    \n",
    "    return simulation, integrator"
   ]
  },
  {
   "cell_type": "markdown",
   "metadata": {},
   "source": [
    "# Wrap a bunch of setup into the 'step' functions"
   ]
  },
  {
   "cell_type": "code",
   "execution_count": 7,
   "metadata": {},
   "outputs": [],
   "source": [
    "def simulate_normally(nsteps, simulation):\n",
    "    simulation.reporters.append(StateDataReporter(stdout, 1000, step=True, temperature=True,\n",
    "                                              potentialEnergy=True, density=True, speed=True))\n",
    "    simulation.step(nsteps)\n",
    "\n",
    "def simulate_tamd(nsteps, simulation, integrator):\n",
    "    mass = 500 #dalton\n",
    "    temp = 298 #should be higher to get higher noise from heat bath to overcome obstacles?\n",
    "    kT = 0.00831451*temp\n",
    "\n",
    "    curr_pos = simulation.context.getParameter('extended_particle_position')\n",
    "    print(curr_pos)\n",
    "    #get the maximum of the bond distance: (i.e. the minimum PBC)\n",
    "    state = simulation.context.getState()\n",
    "    maxdist = state.getPeriodicBoxVectors(asNumpy=True).sum(0)/unit.nanometer\n",
    "\n",
    "    extended_derivs = list()\n",
    "    extended_pos = list()\n",
    "    \n",
    "    simulation.reporters.append(StateDataReporter(stdout, 1000, step=True, temperature=True,\n",
    "                                              potentialEnergy=True, density=True, speed=True))\n",
    "\n",
    "    for i in range(nsteps):\n",
    "        #integrate real coordinates based on current extended particle position:\n",
    "        simulation.step(1)\n",
    "        #get the derivative of the custom bond force wrt the extended particle position:\n",
    "        curr_deriv = integrator.getGlobalVariableByName('extended_particle_deriv')\n",
    "        #force is negative of derivative of PE:\n",
    "        f = -curr_deriv\n",
    "    \n",
    "        #perform diffusive regime (i.e. brownian motion) on extended particle:\n",
    "        noise = (kT**0.5 * norm.rvs(0,0.1)) / mass**0.5\n",
    "        v = f / mass * noise\n",
    "        curr_pos += v\n",
    "        curr_pos = np.clip(curr_pos, 0.2, maxdist[0])\n",
    "    \n",
    "        #set the new position:\n",
    "        simulation.context.setParameter('extended_particle_position', curr_pos)\n",
    "    \n",
    "        #if i%100==0:\n",
    "        extended_derivs.append(curr_deriv)\n",
    "        extended_pos.append(curr_pos)\n",
    "    \n",
    "    return extended_derivs, extended_pos"
   ]
  },
  {
   "cell_type": "markdown",
   "metadata": {},
   "source": [
    "# Run normal MD hold CV constant:"
   ]
  },
  {
   "cell_type": "code",
   "execution_count": 8,
   "metadata": {
    "scrolled": true
   },
   "outputs": [
    {
     "name": "stdout",
     "output_type": "stream",
     "text": [
      "#\"Step\",\"Potential Energy (kJ/mole)\",\"Temperature (K)\",\"Density (g/mL)\",\"Speed (ns/day)\"\n",
      "1000,-118768.2282451425,258.3690523637678,0.971247066919215,0\n",
      "2000,-115607.0719951425,284.6791770506389,0.971247066919215,265\n",
      "3000,-114146.4469951425,289.5178653804698,0.971247066919215,269\n",
      "4000,-114516.7282451425,302.2857531112923,0.971247066919215,271\n",
      "5000,-114094.7282451425,301.262094798483,0.971247066919215,271\n",
      "6000,-113951.3844951425,301.6475610945566,0.971247066919215,272\n",
      "7000,-113868.1969951425,300.32327411320045,0.971247066919215,272\n",
      "8000,-114264.1032451425,303.2581444067238,0.971247066919215,272\n",
      "9000,-113968.0094951425,298.99362564608987,0.971247066919215,272\n",
      "10000,-113976.7594951425,297.4607313137767,0.971247066919215,273\n"
     ]
    }
   ],
   "source": [
    "system = makeSystem()\n",
    "simulation, _ = makeSimulation(modeller, system)\n",
    "\n",
    "simulate_normally(10000, simulation)"
   ]
  },
  {
   "cell_type": "markdown",
   "metadata": {},
   "source": [
    "# Run TAMD with brownian motion on CV:"
   ]
  },
  {
   "cell_type": "code",
   "execution_count": 9,
   "metadata": {},
   "outputs": [
    {
     "name": "stdout",
     "output_type": "stream",
     "text": [
      "1.1315780097865096\n",
      "#\"Step\",\"Potential Energy (kJ/mole)\",\"Temperature (K)\",\"Density (g/mL)\",\"Speed (ns/day)\"\n",
      "1000,-118667.5719951425,255.01658190203452,0.971247066919215,0\n",
      "2000,-115713.1344951425,295.26998618362825,0.971247066919215,243\n",
      "3000,-114870.3532451425,294.567596507401,0.971247066919215,243\n",
      "4000,-114482.6969951425,300.1342905009527,0.971247066919215,243\n",
      "5000,-114439.1969951425,294.08138333848996,0.971247066919215,243\n",
      "6000,-114077.3532451425,305.03973458478544,0.971247066919215,243\n",
      "7000,-113953.1032451425,301.6050196324263,0.971247066919215,243\n",
      "8000,-113936.0094951425,293.6671822821636,0.971247066919215,243\n",
      "9000,-114258.3844951425,303.364147638144,0.971247066919215,243\n",
      "10000,-114597.3219951425,300.20045053431517,0.971247066919215,243\n"
     ]
    }
   ],
   "source": [
    "system = makeSystem()\n",
    "simulation, integrator = makeSimulation(modeller, system)\n",
    "\n",
    "ext_derivs, ext_pos = simulate_tamd(10000, simulation, integrator)"
   ]
  },
  {
   "cell_type": "code",
   "execution_count": 12,
   "metadata": {},
   "outputs": [
    {
     "data": {
      "text/plain": [
       "Text(0.5, 1.0, 'Extended positions (ion distance)')"
      ]
     },
     "execution_count": 12,
     "metadata": {},
     "output_type": "execute_result"
    },
    {
     "data": {
      "image/png": "[encoded data removed]",
      "text/plain": [
       "<Figure size 1080x288 with 2 Axes>"
      ]
     },
     "metadata": {
      "needs_background": "light"
     },
     "output_type": "display_data"
    }
   ],
   "source": [
    "fig, ax  = plt.subplots(1,2)\n",
    "fig.set_figwidth(15)\n",
    "ax[0].plot(ext_derivs)\n",
    "ax[1].plot(ext_pos)\n",
    "for a in ax:\n",
    "    a.grid()\n",
    "    \n",
    "ax[0].set_title('PE derivative:')\n",
    "ax[1].set_title('Extended positions (ion distance)')"
   ]
  },
  {
   "cell_type": "code",
   "execution_count": null,
   "metadata": {},
   "outputs": [],
   "source": []
  },
  {
   "cell_type": "code",
   "execution_count": 14,
   "metadata": {},
   "outputs": [
    {
     "data": {
      "text/plain": [
       "Quantity(value=1.15561369467071, unit=joule**0.5/(mole**0.5*dalton**0.5))"
      ]
     },
     "execution_count": 14,
     "metadata": {},
     "output_type": "execute_result"
    }
   ],
   "source": [
    "curr_deriv = 10*unit.kilojoules_per_mole\n",
    "kT = unit.MOLAR_GAS_CONSTANT_R * 298*unit.kelvin\n",
    "mass = 500*unit.dalton\n",
    "f = -curr_deriv * unit.kilojoules_per_mole\n",
    "\n",
    "noise = (kT**0.5 * norm.rvs(0,1)) / mass**0.5\n",
    "noise"
   ]
  },
  {
   "cell_type": "code",
   "execution_count": 15,
   "metadata": {},
   "outputs": [
    {
     "data": {
      "text/plain": [
       "Quantity(value=-0.0007308742740883658, unit=kilojoule**2.5/(mole**2.5*dalton**1.5))"
      ]
     },
     "execution_count": 15,
     "metadata": {},
     "output_type": "execute_result"
    }
   ],
   "source": [
    "f / mass * noise"
   ]
  },
  {
   "cell_type": "code",
   "execution_count": null,
   "metadata": {},
   "outputs": [],
   "source": []
  }
 ],
 "metadata": {
  "kernelspec": {
   "display_name": "Python 3",
   "language": "python",
   "name": "python3"
  },
  "language_info": {
   "codemirror_mode": {
    "name": "ipython",
    "version": 3
   },
   "file_extension": ".py",
   "mimetype": "text/x-python",
   "name": "python",
   "nbconvert_exporter": "python",
   "pygments_lexer": "ipython3",
   "version": "3.7.3"
  }
 },
 "nbformat": 4,
 "nbformat_minor": 2
}
